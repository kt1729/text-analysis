{
 "cells": [
  {
   "cell_type": "code",
   "execution_count": 29,
   "id": "d5c472e6-c733-4836-b2aa-085fc38a1810",
   "metadata": {},
   "outputs": [
    {
     "name": "stderr",
     "output_type": "stream",
     "text": [
      "[nltk_data] Downloading package stopwords to\n",
      "[nltk_data]     /Users/karantank/nltk_data...\n",
      "[nltk_data]   Package stopwords is already up-to-date!\n",
      "[nltk_data] Downloading package punkt to /Users/karantank/nltk_data...\n",
      "[nltk_data]   Package punkt is already up-to-date!\n",
      "[nltk_data] Downloading package wordnet to\n",
      "[nltk_data]     /Users/karantank/nltk_data...\n",
      "[nltk_data]   Package wordnet is already up-to-date!\n",
      "[nltk_data] Downloading package omw-1.4 to\n",
      "[nltk_data]     /Users/karantank/nltk_data...\n",
      "[nltk_data]   Unzipping corpora/omw-1.4.zip.\n"
     ]
    }
   ],
   "source": [
    "import numpy as np\n",
    "import spacy\n",
    "import nltk\n",
    "import re\n",
    "\n",
    "nlp = spacy.load('en_core_web_sm', disable=['parser', 'ner'])\n",
    "nltk.download('stopwords')\n",
    "nltk.download('punkt')\n",
    "nltk.download('wordnet')\n",
    "nltk.download('omw-1.4')\n",
    "#import nltk stopwords\n",
    "stopwords = nltk.corpus.stopwords.words('english')\n",
    "\n",
    "stopwords_lower = [s.lower() for s in stopwords]\n"
   ]
  },
  {
   "cell_type": "code",
   "execution_count": 6,
   "id": "26f32b59-d559-4aee-9192-0204df3baa80",
   "metadata": {},
   "outputs": [],
   "source": [
    "\n",
    "\n",
    "def text_preprocessing(str_input): \n",
    "     #tokenization, remove punctuation, lemmatization\n",
    "     words=[token.lemma_ for token in nlp(str_input) if not token.is_punct]\n",
    "     # remove symbols, websites, email addresses \n",
    "     words = [re.sub(r\"[^A-Za-z0-9@]\", \"\", word) for word in words] \n",
    "     words = [re.sub(r\"\\S+com\", \"\", word) for word in words]\n",
    "     words = [re.sub(r\"\\S+@\\S+\", \"\", word) for word in words] \n",
    "     words = [word for word in words if word!=' ']\n",
    "     words = [word for word in words if len(word)!=0] \n",
    " \n",
    "     #remove stopwords     \n",
    "     words=[word.lower() for word in words if word.lower() not in stopwords_lower]\n",
    "     #combine a list into one string   \n",
    "     string = \" \".join(words)\n",
    "     return string\n"
   ]
  },
  {
   "cell_type": "code",
   "execution_count": 30,
   "id": "b583494f-26b7-473b-a7ce-bc7e29124f87",
   "metadata": {},
   "outputs": [
    {
     "name": "stdout",
     "output_type": "stream",
     "text": [
      "good morning everyone thank join want start call today look back 2016 transformative year transformation difficult one especially challenge start 2016 reset focus people use twitter fast way see happen everyone talk reset refocus strength achieve one hard thing consumer service scale reverse reaccelerate usage thrilled report daily active usage accelerate third quarter row see strong growth continue make experience little well every single day may feel like change much past year hundred little change add predictable sustained growth use foundation inventive take big risk exactly go say last call revenue growth lag usage see number outlook prove case advertiser need approach apply consumer service reset focus strength mean clearly differentiate complement twitter real time nature prove advertiser twitter easy work customer 2016 challenge reaccelerate consumer usage give confidence 2017 challenge simplify differentiate revenue product take time show result want see move forward aggressively whole world watch twitter may meet everyone growth expectation one thing continue grow outpace peer twitter influence impact go day without hear twitter use fast way send message world instant carry important commentary conversation mobilize people action powerful valuable fundamental reason fight hard service company love hard continue hard worth twitter change way world communicate back krista question hey john thank question spend lot time 2016 really focus make sure identify clarify team priority matter term use case use case fundamental twitter able show happen immediately able get people news immediately anything new noteworthy also show commentary conversation around lead one important area home timeline make relevant recent notification make relevant tell people break direct attention easy onboarding also easy way tweet lot work across four area really excited actually see result well something launch recently explore tab different way organize information twitter base around topic organize search moment trend topic one area could go exhaust timeline find new thing happen world new topic might interested ultimately want follow majority effort continue timeline notification make simple easy people see happen also participate converse go put lot attention explore make sure show topic fast also area show live streaming game debate election event easy place find time something live go twitter topic might find hear world want dive twitter well also use foundation build 2016 growth see focus opportunity take big risk take big bet within consumer product well nothing announce today idea currently explore thank term big bet make big bet live streaming bring platform entirely new experience able build three month execute really well create experience consistent see people use twitter past 10 year comment conversation live event make lot easy see anywhere train commute home commute work office see nfl game see debate anywhere look pattern see past 10 year people use twitter create experience around make easy share happen talk happen see much fast thing invest lot make sure apply machine learn broadly around entire experience recently hire jan peterson 1200 consolidate science effort deep learning machine learning artificial intelligence get lot smart provide magical experience people around show break real time give sense go without much work currently platform look lot opportunity organize tweet around relevance also around topic interest passion people care really unique differentiator twitter people come interest build interest network around think lot room new experience around seem like still lot opportunity see even make easy easy people tweet focus lot topic people want talk participate youssef leadership team late last year really flatten organization could elevate engineering product design report directly could lot close product spend year really go make sure reset foundation execute priority execute engineering perspective lot confidence move lot fast big thing take care lot thing simple enough lot 2725 need address immediately could develop much fast bring new experience life really confident team ed ho lead consumer service company two year show lot great promise lead lot effort make sure focus right initiative actually reaccelerate growth prove lot company also team also able attract really senior product lead well keith coleman recent also bring amazing engineering team lead consumer product effort consolidate organization build strength notably machine learning artificial intelligence effort critical able move much fast jan peterson 2825 join work get everyone page make sure platform internally every team use provide well magical experience twitter machine learning artificial intelligence focus team allow give lot confidence continue focus meaningful thing company right prioritization front thank first question would say president use twitter broaden awareness platform use show power twitter tweet spark conversation discussion macro level discussion platform really help good show happen world discussion strengthen key differentiator comprehensive fast quantitative perspective would say quarter measure analyze factor drive causal growth audience coincident growth fourth quarter primary driver growth say early product change marketing also look couple factor see significant change trendline top funnel one area could benefit see benefit top funnel activity throughout election time period relate impression growth another area look mention early magnitude impression platform large would hard event single person drive sustained growth impression growth say world leader platform talk global issue people passionately express point view positive twitter focus time drive fast distribution content comprehensive content discussion personalization well deliver happen world talk quantify impact point time continue analyze go q1 talk end quarter relate second question listen environment definitely competitive throughout 2016 2015 prior call talk fact large scale player digital advertising social advertising budget prior year increase throughout 2016 2017 think see mid january relate acceleration competitive factor really advertiser start ramp spending come fourth quarter february time period historically 35 40 versus january ramp really start mid january february see marketplace challenge ability attract demand advertiser think number factor behind player innovation competitor lot stake moment time good news revenue follow audience see acceleration audience growth want translate revenue dollar require prove roi process advertiser addition focus revenue stream ad drive area low hanging opportunity audience monetize final point would make video position capture ad dollar competitive digital advertising bucket start tap dollar live video product continue invest area well yes focus lot attention early build live event live premium video experience anthony say early focus make sure connect people fast interest topic care include able watch event directly twitter explore tab one area able go live event also look area get much fast express interest debate instance game new show entertainment focus team something go make lot progress year anthony say focus 2016 make sure really align around one use case show happen anyone else good place get news conversation commentary go world make tough choice fabric also thing like vine could make sure put effort behind twitter make twitter great past 10 year look new opportunity extend use case extend sense happen live video big focus well everything around live stream premium video within app also individual create live stream video periscope majority focus want cut everything go matter brian would say know surprising every single year fact twitter grow impact influence instrumental global conversation essential e one first place people go get sense people think people say global event lot close home right lot conversation happen around us election administration amazing see unfold definitely learning moment think thing constantly inspire important essential twitter continue e look 2017 look think superpower really provide world break news get information people fast service world order people ton work right dig everything may matter find something really excited really make sure apply artificial intelligence machine learning right way really meet superpower little bird tell something could find anywhere else get application get service easy look window see go lot work lot tab lot syntax still put front people easy open phone webpage instantly get sense matter people think contribute participate really believe confident get something much simple everyone within year excite lot hit 10 year mark 11 company endure last thrive yeah closing say never sure value twitter bring people world people trust carry important conversation commentary critique event idea question world prove focus work need apply approach revenue product help advertiser advance towards ultimate goal build company service empower generation generation want thank time support see twitter\n"
     ]
    }
   ],
   "source": [
    "\n",
    "#open text file in read mode\n",
    "text_file = open(\"data.txt\", \"r\")\n",
    "\n",
    "#read whole file to a string\n",
    "input_text = text_file.read()\n",
    " \n",
    "#close file\n",
    "text_file.close()\n",
    "    \n",
    "preprocessed_text = text_preprocessing(input_text)\n",
    "print(preprocessed_text)"
   ]
  },
  {
   "cell_type": "code",
   "execution_count": 54,
   "id": "bab2dcb4-a94c-4d1c-be8f-c3ca2e5933b1",
   "metadata": {},
   "outputs": [],
   "source": [
    "\n",
    "\n",
    "\n",
    "\n",
    "from nltk.tokenize import word_tokenize\n",
    "tokenized_word=word_tokenize(preprocessed_text)\n",
    "\n",
    "\n",
    "# # Stemming\n",
    "# from nltk.stem import PorterStemmer\n",
    "# from nltk.tokenize import sent_tokenize, word_tokenize\n",
    "\n",
    "# ps = PorterStemmer()\n",
    "\n",
    "# stemmed_words=[]\n",
    "# for w in tokenized_word:\n",
    "#     stemmed_words.append(ps.stem(w))\n",
    "\n",
    "# #print(\"Filtered Sentence:\",tokenized_word)\n",
    "# #print(\"Stemmed Sentence:\",stemmed_words)\n",
    "\n",
    "\n",
    "from nltk.stem import WordNetLemmatizer\n",
    "#defining the object for Lemmatization\n",
    "wordnet_lemmatizer = WordNetLemmatizer()\n",
    "\n",
    "lemm_text = [wordnet_lemmatizer.lemmatize(word) for word in tokenized_word]\n",
    "\n",
    "#print(lemm_text)\n",
    "#print(' '.join(lemm_text))"
   ]
  },
  {
   "cell_type": "code",
   "execution_count": 55,
   "id": "c9aac515-f5dc-48f2-b0f4-ac383b05e423",
   "metadata": {},
   "outputs": [
    {
     "name": "stdout",
     "output_type": "stream",
     "text": [
      "<FreqDist with 477 samples and 1340 outcomes>\n",
      "[('lot', 28), ('twitter', 25), ('people', 23), ('see', 22), ('make', 22), ('focus', 17), ('really', 17), ('go', 14), ('year', 13), ('use', 13)]\n"
     ]
    },
    {
     "data": {
      "image/png": "[encoded data removed]",
      "text/plain": [
       "<Figure size 432x288 with 1 Axes>"
      ]
     },
     "metadata": {
      "needs_background": "light"
     },
     "output_type": "display_data"
    }
   ],
   "source": [
    "\n",
    "from nltk.probability import FreqDist\n",
    "fdist = FreqDist(lemm_text)\n",
    "print(fdist)\n",
    "print(fdist.most_common(10))\n",
    "\n",
    "import matplotlib.pyplot as plt\n",
    "fdist.plot(30,cumulative=False)\n",
    "plt.show()"
   ]
  },
  {
   "cell_type": "code",
   "execution_count": null,
   "id": "7badd5d4-c924-43f5-8b56-8b4a574b2499",
   "metadata": {},
   "outputs": [],
   "source": []
  }
 ],
 "metadata": {
  "kernelspec": {
   "display_name": "Python 3 (ipykernel)",
   "language": "python",
   "name": "python3"
  },
  "language_info": {
   "codemirror_mode": {
    "name": "ipython",
    "version": 3
   },
   "file_extension": ".py",
   "mimetype": "text/x-python",
   "name": "python",
   "nbconvert_exporter": "python",
   "pygments_lexer": "ipython3",
   "version": "3.7.6"
  }
 },
 "nbformat": 4,
 "nbformat_minor": 5
}
